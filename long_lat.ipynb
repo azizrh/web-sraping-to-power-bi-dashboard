{
 "cells": [
  {
   "cell_type": "code",
   "execution_count": 2,
   "metadata": {},
   "outputs": [],
   "source": [
    "from selenium import webdriver\n",
    "from selenium.webdriver.support.ui import WebDriverWait\n",
    "from selenium.webdriver.common.by import By\n",
    "from selenium.webdriver.support import expected_conditions as EC\n",
    "from selenium.webdriver.support.ui import Select\n",
    "from selenium.common.exceptions import TimeoutException\n",
    "from selenium.webdriver.chrome.service import Service\n",
    "\n",
    "import bs4\n",
    "from bs4 import BeautifulSoup\n",
    "\n",
    "\n",
    "import pandas as pd\n",
    "import time"
   ]
  },
  {
   "cell_type": "code",
   "execution_count": 3,
   "metadata": {},
   "outputs": [
    {
     "data": {
      "text/html": [
       "<div>\n",
       "<style scoped>\n",
       "    .dataframe tbody tr th:only-of-type {\n",
       "        vertical-align: middle;\n",
       "    }\n",
       "\n",
       "    .dataframe tbody tr th {\n",
       "        vertical-align: top;\n",
       "    }\n",
       "\n",
       "    .dataframe thead th {\n",
       "        text-align: right;\n",
       "    }\n",
       "</style>\n",
       "<table border=\"1\" class=\"dataframe\">\n",
       "  <thead>\n",
       "    <tr style=\"text-align: right;\">\n",
       "      <th></th>\n",
       "      <th>ref</th>\n",
       "    </tr>\n",
       "  </thead>\n",
       "  <tbody>\n",
       "    <tr>\n",
       "      <th>0</th>\n",
       "      <td>https://www.booking.com/hotel/id/mb-camp-singk...</td>\n",
       "    </tr>\n",
       "    <tr>\n",
       "      <th>1</th>\n",
       "      <td>https://www.booking.com/hotel/id/palambak-isla...</td>\n",
       "    </tr>\n",
       "    <tr>\n",
       "      <th>2</th>\n",
       "      <td>https://www.booking.com/hotel/id/oyo-2410-inta...</td>\n",
       "    </tr>\n",
       "    <tr>\n",
       "      <th>3</th>\n",
       "      <td>https://www.booking.com/hotel/id/pondok-indah-...</td>\n",
       "    </tr>\n",
       "    <tr>\n",
       "      <th>4</th>\n",
       "      <td>https://www.booking.com/hotel/id/oyo-3068-losm...</td>\n",
       "    </tr>\n",
       "  </tbody>\n",
       "</table>\n",
       "</div>"
      ],
      "text/plain": [
       "                                                 ref\n",
       "0  https://www.booking.com/hotel/id/mb-camp-singk...\n",
       "1  https://www.booking.com/hotel/id/palambak-isla...\n",
       "2  https://www.booking.com/hotel/id/oyo-2410-inta...\n",
       "3  https://www.booking.com/hotel/id/pondok-indah-...\n",
       "4  https://www.booking.com/hotel/id/oyo-3068-losm..."
      ]
     },
     "execution_count": 3,
     "metadata": {},
     "output_type": "execute_result"
    }
   ],
   "source": [
    "link = pd.read_excel(\"./full_indonesia_list_v2.xlsx\",usecols=[12])\n",
    "link.head()"
   ]
  },
  {
   "cell_type": "code",
   "execution_count": 13,
   "metadata": {},
   "outputs": [
    {
     "name": "stdout",
     "output_type": "stream",
     "text": [
      "https://www.booking.com/hotel/id/palambak-island-resort.html?label=gen173nr-1FCAEoggI46AdIM1gEaGiIAQGYATG4ARfIAQ_YAQHoAQH4AQKIAgGoAgO4Aom-wJEGwAIB0gIkNmQ5YjNjMjYtOWE4Ni00Zjc0LTkxODEtNDcyMTcxOGUyYzUy2AIF4AIB&sid=5391bf71cbdc7bc5b1e4a111317d4235&aid=304142&ucfs=1&arphpl=1&checkin=2022-03-15&checkout=2022-03-16&group_adults=2&req_adults=2&no_rooms=1&group_children=0&req_children=0&hpos=2&hapos=2&sr_order=distance_from_search&srpvid=99bc240824840018&srepoch=1647320850&all_sr_blocks=592266109_232279547_2_42_0&highlighted_blocks=592266109_232279547_2_42_0&matching_block_id=592266109_232279547_2_42_0&sr_pri_blocks=592266109_232279547_2_42_0__31587500&from=searchresults#hotelTmpl\n"
     ]
    }
   ],
   "source": [
    "a=link.iat[1,0]\n",
    "print(a)"
   ]
  },
  {
   "cell_type": "code",
   "execution_count": 35,
   "metadata": {},
   "outputs": [
    {
     "name": "stdout",
     "output_type": "stream",
     "text": [
      "-8.55891480,115.28658843\n",
      "“Pak Agus and wife (the owner) are very friendly and helpful.\n",
      "I went to Bali for a marathon event. Arrived in Green Papaya at 3am, Pak Agus woke up and helped me to bring my luggage to the room.\n",
      "The day after, I had to go to race event at 4am, he prepared someone to drop me to the race location.\n",
      "Very helpful and really appreciate it.”\n",
      "“Beautiful place with peacful atmosphere.You cannot imagine how hospitable and kind they are.”\n",
      "“Tasty breakfast, great and always clean pool, Dewi and her family are really pleasant people. They would usually treat us with fruits from their garden, and it was great to have little chats with Dewi and her husband from time to time.”\n",
      "“Everything,\n",
      "Rooms are nice and clean, staffs were very friendly”\n",
      "“It's great accomodation for this price, clean rooms, nice pool and very kind owner and his family ;-) Quiet local location, 15 min to center Ubud by scooters”\n",
      "“The staff are so lovely, kind & accommodating. They put in the time and effort to make sure you’re well, have everything you need & feel at home. Thank you! <3”\n",
      "“Pancakes for breakfast! Dewi and Agus treated me like their son and offered me chicken satay for Christmas, we sat outside at night on Christmas Day, had bintang beer and laughs. It’s not close to city center but it’s quite and great comfort, value for money. There are warungs ( local restaurants) close by 10 mins by foot and there’s a waterfall close by.”\n",
      "“Spacious room with a comfortable bed. We didn't use the swimming pool but it looked clean and was big. Good breakfast pancakes. They rent scooters at a good price!”\n",
      "“They checked us in earlier, could rent a bike from them to get around as the place is a bit far, but it all makes it a little bit more exciting. Amazing price, very private and homy atmosphere, kind staff, tasty breakfast, nice pool. Loved it!”\n",
      "“Amazing place, calm and great breakfast. We rent motorbike from the host to get around. For the price it's amazing.”\n"
     ]
    }
   ],
   "source": [
    "s=Service(r'C:\\Users\\62811\\Downloads\\geckodriver-v0.30.0-win64\\geckodriver.exe') \n",
    "url = 'https://www.booking.com/hotel/id/green-papaya-house.html?aid=304142;label=gen173nr-1FCAEoggI46AdIM1gEaGiIAQGYATG4ARfIAQ_YAQHoAQH4AQKIAgGoAgO4Ar6GwZEGwAIB0gIkYmM5NDlkYTgtZTA4NC00MjQ3LWE5MTEtNmMzMDhkZmE0YWVl2AIF4AIB;sid=f69cca44213bc2d9315e7a7f1c7282a0;all_sr_blocks=168628701_127283404_2_1_0;checkin=2022-03-15;checkout=2022-03-16;dist=0;group_adults=2;group_children=0;hapos=23;highlighted_blocks=168628701_127283404_2_1_0;hpos=23;matching_block_id=168628701_127283404_2_1_0;no_rooms=1;req_adults=2;req_children=0;room1=A%2CA;sb_price_type=total;sr_order=popularity;sr_pri_blocks=168628701_127283404_2_1_0__27000000;srepoch=1647330115;srpvid=419b3620c74b0018;type=total;ucfs=1&#hotelTmpl'\n",
    "\n",
    "for j in range(0,1):#len(link)):\n",
    "    driver = webdriver.Firefox(service=s)\n",
    "    wait = WebDriverWait(driver, 10)\n",
    "    driver.get(url)#link.iat[j,0])\n",
    "\n",
    "    map = wait.until(EC.visibility_of_element_located((By.ID, \"hotel_sidebar_static_map\")))\n",
    "    print(map.get_attribute('data-atlas-latlng'))\n",
    "\n",
    "    #review = wait.until(EC.visibility_of_element_located((By.CLASS_NAME, \"c-review__body\")))\n",
    "    reviews = driver.find_elements(by=By.CLASS_NAME, value=\"c-review__body\")\n",
    "    for review in reviews:\n",
    "        print(review.text)\n",
    "\n",
    "    driver.quit()"
   ]
  }
 ],
 "metadata": {
  "interpreter": {
   "hash": "13f7bc5c65291c10c727b8dd2a78a10da54632b5572555f410070fda4a155e63"
  },
  "kernelspec": {
   "display_name": "Python 3.9.7 ('base')",
   "language": "python",
   "name": "python3"
  },
  "language_info": {
   "codemirror_mode": {
    "name": "ipython",
    "version": 3
   },
   "file_extension": ".py",
   "mimetype": "text/x-python",
   "name": "python",
   "nbconvert_exporter": "python",
   "pygments_lexer": "ipython3",
   "version": "3.9.7"
  },
  "orig_nbformat": 4
 },
 "nbformat": 4,
 "nbformat_minor": 2
}
